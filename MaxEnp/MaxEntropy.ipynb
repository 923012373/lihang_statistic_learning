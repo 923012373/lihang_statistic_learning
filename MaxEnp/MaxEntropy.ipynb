{
 "cells": [
  {
   "cell_type": "code",
   "execution_count": 49,
   "metadata": {},
   "outputs": [],
   "source": [
    "import numpy as np\n",
    "import sklearn.datasets as datasets\n",
    "from sklearn.model_selection import train_test_split\n",
    "from tqdm import tqdm\n",
    "from collections import defaultdict"
   ]
  },
  {
   "cell_type": "code",
   "execution_count": 70,
   "metadata": {},
   "outputs": [],
   "source": [
    "class MaxEntropy():\n",
    "\n",
    "    def __init__(self, train_data, train_labels,test_data, test_labels):\n",
    "        self.train_data = train_data\n",
    "        self.train_labels = train_labels\n",
    "        self.test_data = test_data\n",
    "        self.test_labels = test_labels\n",
    "        self.feature_nums = train_data.shape[1]#样本特征个数\n",
    "        self.class_nums = len(np.unique(train_labels))#样本类的个数\n",
    "        '''\n",
    "        约束条件的个数，即训练样本所有出现(x,y)对的个数，注意x指单个特征\n",
    "        比如样本有x1,x2,x3三个特征，(x1=1,y=1)为一个(x,y)对\n",
    "        '''\n",
    "        self.n = 0\n",
    "        self.N = train_data.shape[0]#训练样本个数\n",
    "        self.xy_num = self.calc_xy_num()#计算所有（x,y）对的个数\n",
    "        self.M = self.n#类似于学习率\n",
    "        self.w = np.zeros((self.n, 1))#拉格朗日乘子\n",
    "        self.fxy2id, self.id2xy = self.create_search_dict()#构建(x,y)对到id及其相反的映射\n",
    "        self.epf_tilde = self.calc_epf_tilde()#计算f(x,y)关于经验分布p_(x,y)的期望\n",
    "\n",
    "\n",
    "    def calc_xy_num(self):\n",
    "        #计算所有（x,y）对的个数\n",
    "        xy_num = [defaultdict(int) for i in range(self.feature_nums)]\n",
    "        for i in range(self.N):\n",
    "            for f in range(self.feature_nums):\n",
    "                xy_num[f][(self.train_data[i, f], self.train_labels[i])] += 1\n",
    "        for d in xy_num:\n",
    "            self.n += len(d)\n",
    "        return xy_num\n",
    "\n",
    "    def create_search_dict(self):\n",
    "        #构建(x,y)对到id及其相反的映射\n",
    "        fxy2id = {}\n",
    "        id2xy = {}\n",
    "        index = 0\n",
    "        for f in range(self.feature_nums):\n",
    "            for (x, y) in self.xy_num[f]:\n",
    "                fxy2id[(f, x, y)] = index\n",
    "                id2xy[index] = (f, x, y)\n",
    "                index += 1\n",
    "        return fxy2id, id2xy\n",
    "\n",
    "    def calc_epf_tilde(self):\n",
    "        #计算书中公式6.10右边的期望\n",
    "        pxy_tilde = np.zeros((self.n, 1))\n",
    "        for f in range(self.feature_nums):\n",
    "            for (x, y), num in self.xy_num[f].items():\n",
    "                index = self.fxy2id[(f, x, y)]\n",
    "                pxy_tilde[index] = num\n",
    "        pxy_tilde /= self.N\n",
    "        return pxy_tilde\n",
    "\n",
    "    def calc_pwy_x(self, x):\n",
    "        #计算条件概率对应书中公式6.22\n",
    "        element = np.zeros((self.class_nums, 1))\n",
    "        for f in range(self.feature_nums):\n",
    "            for y in range(self.class_nums):\n",
    "                if (f, x[f], y) in self.fxy2id:\n",
    "                    index = self.fxy2id[(f, x[f], y)]\n",
    "                    element[y] += self.w[index]\n",
    "        element = np.exp(element)\n",
    "        z = np.sum(element)\n",
    "        return element / z\n",
    "\n",
    "    def calc_epf(self):\n",
    "        #计算书中公式6.10左边期望\n",
    "        epf = np.zeros((self.n, 1))\n",
    "        for i in range(self.N):\n",
    "            pwy_x = self.calc_pwy_x(self.train_data[i])\n",
    "            for f in range(self.feature_nums):\n",
    "                for y in range(self.class_nums):\n",
    "                    if (f, self.train_data[i, f], y) in self.fxy2id:\n",
    "                        index = self.fxy2id[(f, self.train_data[i, f], y)]\n",
    "                        epf[index] += pwy_x[y] / self.N\n",
    "        return epf\n",
    "\n",
    "    def train(self, iterations=200):\n",
    "        for i in tqdm(range(iterations)):\n",
    "            epf = self.calc_epf()\n",
    "            delta = (1 / self.M) * np.log(self.epf_tilde / epf)\n",
    "            self.w += delta\n",
    "            if i % 10 == 9:\n",
    "                self.test(self.test_data, self.test_labels)\n",
    "\n",
    "    def predict(self, x):\n",
    "        pred = self.calc_pwy_x(x)\n",
    "        return np.argmax(pred)\n",
    "\n",
    "    def test(self, test_data, test_labels):\n",
    "        correct = 0\n",
    "        length = test_data.shape[0]\n",
    "        for i in range(length):\n",
    "            pred = self.predict(test_data[i])\n",
    "            if pred == test_labels[i]:\n",
    "                correct += 1\n",
    "        print('测试集正确率:%.2f%%' %(correct*100/length))"
   ]
  },
  {
   "cell_type": "code",
   "execution_count": 69,
   "metadata": {},
   "outputs": [
    {
     "name": "stderr",
     "output_type": "stream",
     "text": [
      "  4%|███▋                                                                              | 9/200 [00:19<07:08,  2.25s/it]"
     ]
    },
    {
     "name": "stdout",
     "output_type": "stream",
     "text": [
      "测试集正确率:91.67%\n"
     ]
    },
    {
     "name": "stderr",
     "output_type": "stream",
     "text": [
      " 10%|███████▋                                                                         | 19/200 [00:40<05:29,  1.82s/it]"
     ]
    },
    {
     "name": "stdout",
     "output_type": "stream",
     "text": [
      "测试集正确率:91.67%\n"
     ]
    },
    {
     "name": "stderr",
     "output_type": "stream",
     "text": [
      " 14%|███████████▋                                                                     | 29/200 [00:55<04:25,  1.55s/it]"
     ]
    },
    {
     "name": "stdout",
     "output_type": "stream",
     "text": [
      "测试集正确率:91.67%\n"
     ]
    },
    {
     "name": "stderr",
     "output_type": "stream",
     "text": [
      " 20%|███████████████▊                                                                 | 39/200 [01:11<04:01,  1.50s/it]"
     ]
    },
    {
     "name": "stdout",
     "output_type": "stream",
     "text": [
      "测试集正确率:91.67%\n"
     ]
    },
    {
     "name": "stderr",
     "output_type": "stream",
     "text": [
      " 24%|███████████████████▊                                                             | 49/200 [01:27<03:51,  1.53s/it]"
     ]
    },
    {
     "name": "stdout",
     "output_type": "stream",
     "text": [
      "测试集正确率:91.67%\n"
     ]
    },
    {
     "name": "stderr",
     "output_type": "stream",
     "text": [
      " 30%|███████████████████████▉                                                         | 59/200 [01:43<03:37,  1.54s/it]"
     ]
    },
    {
     "name": "stdout",
     "output_type": "stream",
     "text": [
      "测试集正确率:91.67%\n"
     ]
    },
    {
     "name": "stderr",
     "output_type": "stream",
     "text": [
      " 34%|███████████████████████████▉                                                     | 69/200 [01:59<03:21,  1.54s/it]"
     ]
    },
    {
     "name": "stdout",
     "output_type": "stream",
     "text": [
      "测试集正确率:91.67%\n"
     ]
    },
    {
     "name": "stderr",
     "output_type": "stream",
     "text": [
      " 40%|███████████████████████████████▉                                                 | 79/200 [02:15<03:16,  1.62s/it]"
     ]
    },
    {
     "name": "stdout",
     "output_type": "stream",
     "text": [
      "测试集正确率:91.67%\n"
     ]
    },
    {
     "name": "stderr",
     "output_type": "stream",
     "text": [
      " 44%|████████████████████████████████████                                             | 89/200 [02:33<03:21,  1.81s/it]"
     ]
    },
    {
     "name": "stdout",
     "output_type": "stream",
     "text": [
      "测试集正确率:91.85%\n"
     ]
    },
    {
     "name": "stderr",
     "output_type": "stream",
     "text": [
      " 50%|████████████████████████████████████████                                         | 99/200 [02:50<02:56,  1.74s/it]"
     ]
    },
    {
     "name": "stdout",
     "output_type": "stream",
     "text": [
      "测试集正确率:92.22%\n"
     ]
    },
    {
     "name": "stderr",
     "output_type": "stream",
     "text": [
      " 55%|███████████████████████████████████████████▌                                    | 109/200 [03:07<02:26,  1.61s/it]"
     ]
    },
    {
     "name": "stdout",
     "output_type": "stream",
     "text": [
      "测试集正确率:92.59%\n"
     ]
    },
    {
     "name": "stderr",
     "output_type": "stream",
     "text": [
      " 60%|███████████████████████████████████████████████▌                                | 119/200 [03:24<02:10,  1.61s/it]"
     ]
    },
    {
     "name": "stdout",
     "output_type": "stream",
     "text": [
      "测试集正确率:92.78%\n"
     ]
    },
    {
     "name": "stderr",
     "output_type": "stream",
     "text": [
      " 64%|███████████████████████████████████████████████████▌                            | 129/200 [03:43<01:53,  1.59s/it]"
     ]
    },
    {
     "name": "stdout",
     "output_type": "stream",
     "text": [
      "测试集正确率:93.52%\n"
     ]
    },
    {
     "name": "stderr",
     "output_type": "stream",
     "text": [
      " 70%|███████████████████████████████████████████████████████▌                        | 139/200 [04:01<02:04,  2.05s/it]"
     ]
    },
    {
     "name": "stdout",
     "output_type": "stream",
     "text": [
      "测试集正确率:94.07%\n"
     ]
    },
    {
     "name": "stderr",
     "output_type": "stream",
     "text": [
      " 74%|███████████████████████████████████████████████████████████▌                    | 149/200 [04:20<01:33,  1.84s/it]"
     ]
    },
    {
     "name": "stdout",
     "output_type": "stream",
     "text": [
      "测试集正确率:94.26%\n"
     ]
    },
    {
     "name": "stderr",
     "output_type": "stream",
     "text": [
      " 80%|███████████████████████████████████████████████████████████████▌                | 159/200 [04:40<01:15,  1.84s/it]"
     ]
    },
    {
     "name": "stdout",
     "output_type": "stream",
     "text": [
      "测试集正确率:95.19%\n"
     ]
    },
    {
     "name": "stderr",
     "output_type": "stream",
     "text": [
      " 84%|███████████████████████████████████████████████████████████████████▌            | 169/200 [04:57<00:50,  1.63s/it]"
     ]
    },
    {
     "name": "stdout",
     "output_type": "stream",
     "text": [
      "测试集正确率:96.11%\n"
     ]
    },
    {
     "name": "stderr",
     "output_type": "stream",
     "text": [
      " 90%|███████████████████████████████████████████████████████████████████████▌        | 179/200 [05:13<00:33,  1.62s/it]"
     ]
    },
    {
     "name": "stdout",
     "output_type": "stream",
     "text": [
      "测试集正确率:96.48%\n"
     ]
    },
    {
     "name": "stderr",
     "output_type": "stream",
     "text": [
      " 94%|███████████████████████████████████████████████████████████████████████████▌    | 189/200 [05:32<00:22,  2.02s/it]"
     ]
    },
    {
     "name": "stdout",
     "output_type": "stream",
     "text": [
      "测试集正确率:97.22%\n"
     ]
    },
    {
     "name": "stderr",
     "output_type": "stream",
     "text": [
      "100%|███████████████████████████████████████████████████████████████████████████████▌| 199/200 [05:51<00:01,  1.95s/it]"
     ]
    },
    {
     "name": "stdout",
     "output_type": "stream",
     "text": [
      "测试集正确率:97.22%\n"
     ]
    },
    {
     "name": "stderr",
     "output_type": "stream",
     "text": [
      "100%|████████████████████████████████████████████████████████████████████████████████| 200/200 [05:52<00:00,  1.89s/it]\n"
     ]
    }
   ],
   "source": [
    "digits_data = datasets.load_digits()\n",
    "data, labels = digits_data.data, digits_data.target\n",
    "labels = (labels > 0).astype(np.int32)\n",
    "train_x, test_x, train_y, test_y = train_test_split(data, labels, test_size=0.3, random_state=0)\n",
    "model = MaxEntropy(train_x, train_y, test_x, test_y)\n",
    "model.train()"
   ]
  },
  {
   "cell_type": "code",
   "execution_count": null,
   "metadata": {},
   "outputs": [],
   "source": []
  }
 ],
 "metadata": {
  "kernelspec": {
   "display_name": "Python 3",
   "language": "python",
   "name": "python3"
  },
  "language_info": {
   "codemirror_mode": {
    "name": "ipython",
    "version": 3
   },
   "file_extension": ".py",
   "mimetype": "text/x-python",
   "name": "python",
   "nbconvert_exporter": "python",
   "pygments_lexer": "ipython3",
   "version": "3.7.0"
  }
 },
 "nbformat": 4,
 "nbformat_minor": 2
}
